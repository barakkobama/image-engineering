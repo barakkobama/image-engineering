{
 "cells": [
  {
   "cell_type": "markdown",
   "metadata": {},
   "source": [
    "# Zadanie 1"
   ]
  },
  {
   "cell_type": "code",
   "execution_count": 11,
   "metadata": {},
   "outputs": [
    {
     "name": "stdout",
     "output_type": "stream",
     "text": [
      "aaaaaaaaaaaaaaaaaaaaaa\n"
     ]
    }
   ],
   "source": [
    "print(\"aaaaaaaaaaaaaaaaaaaaaa\")"
   ]
  },
  {
   "cell_type": "markdown",
   "metadata": {},
   "source": [
    "# Zadanie 2"
   ]
  },
  {
   "cell_type": "code",
   "execution_count": 12,
   "metadata": {},
   "outputs": [
    {
     "name": "stdout",
     "output_type": "stream",
     "text": [
      "  ______\n",
      "| Howdy? |\n",
      "  ======\n",
      "      \\                                                      \n",
      "       \\                  &************************&\n",
      "        \\             &******************************&\n",
      "         \\          &**********************************&\n",
      "                  &**************************************&\n",
      "                &*****************************************&\n",
      "               &*******************************************& \n",
      "              &*********************************************&\n",
      "             &***********************************************&\n",
      "            &************************************************&\n",
      "            &***#########********#########*******************&\n",
      "            &*##       ##########          ##################&\n",
      "            &*##   O   ##@**####   O       ##***************&\n",
      "            &***#########@*******#########*****************&\n",
      "            &***********@*********************************&\n",
      "            &**********@*********************************&\n",
      "            &*********@*********************************&\n",
      "            &********@@*********************************&\n",
      "             &*******@@@@@@****************************&   \n",
      "              &**************************************&\n",
      "                &**************************************&\n",
      "                 &******@@@@@@@@@@@@*********************&\n",
      "                   &*************************************&   \n",
      "                     &************************************&\n",
      "                           &*******************************&\n",
      "                             &*****************************&\n"
     ]
    }
   ],
   "source": [
    "import cowsay\n",
    "cowsay.miki(\"Howdy?\")"
   ]
  },
  {
   "cell_type": "markdown",
   "metadata": {},
   "source": [
    "# Zadanie 3"
   ]
  },
  {
   "cell_type": "code",
   "execution_count": 3,
   "metadata": {},
   "outputs": [],
   "source": [
    "import math\n",
    "def calculate(a):\n",
    "    return math.sin(a)\n",
    "\n",
    "with open('arguments.txt','r') as file:\n",
    "    arguments = file.read()\n",
    "\n",
    "argumentsList = arguments.split()\n",
    "with open('results.txt','w') as resultFile:\n",
    "    for argument in argumentsList:\n",
    "        resultFile.write(str(calculate(float(argument))) + '\\n')\n"
   ]
  },
  {
   "cell_type": "markdown",
   "metadata": {},
   "source": [
    "# Zadanie 4"
   ]
  },
  {
   "cell_type": "code",
   "execution_count": 4,
   "metadata": {},
   "outputs": [
    {
     "name": "stdout",
     "output_type": "stream",
     "text": [
      "12\n"
     ]
    }
   ],
   "source": [
    "class Product:\n",
    "    def __init__(self,name,price,quantity):\n",
    "        self.name = name\n",
    "        self.price = price\n",
    "        self.quantity = quantity\n",
    "\n",
    "\n",
    "class Cart:\n",
    "    products = {\"Milk\":Product(\"Milk\",10,0),\n",
    "                \"Eggs\":Product(\"Eggs\",5,0),\n",
    "                \"Patatoes\":Product(\"Patatoes\",2,0)}\n",
    "\n",
    "    def add(self,productName):\n",
    "        if(productName in self.products):\n",
    "            self.products[productName].quantity += 1\n",
    "\n",
    "    def remove(self,productName):\n",
    "        if(productName in self.products and self.products[productName].quantity > 0):\n",
    "            self.products[productName].quantity -= 1\n",
    "    \n",
    "    def totalPrice(self):\n",
    "        sum = 0\n",
    "        for product in self.products:\n",
    "            sum += self.products[product].price * self.products[product].quantity\n",
    "        return sum\n",
    "        \n",
    "\n",
    "newCart = Cart()\n",
    "#Testing add()\n",
    "newCart.add(\"Milk\")\n",
    "newCart.add(\"Eggs\")\n",
    "newCart.add(\"Patatoes\")\n",
    "newCart.add(\"Eggs\")\n",
    "#Non-existing key\n",
    "newCart.add(\"Tomatoes\")\n",
    "#Testing remove()\n",
    "newCart.remove(\"Milk\")\n",
    "#Non-existing key\n",
    "newCart.remove(\"Breed\")\n",
    "#Testing totalPrice()\n",
    "print(newCart.totalPrice())  #10 + 5 + 2 + 5 - 10 = 12\n",
    "\n",
    "\n",
    "\n",
    "\n"
   ]
  },
  {
   "cell_type": "markdown",
   "metadata": {},
   "source": [
    "# Zadanie 5"
   ]
  },
  {
   "cell_type": "code",
   "execution_count": 10,
   "metadata": {},
   "outputs": [
    {
     "name": "stdout",
     "output_type": "stream",
     "text": [
      "------------__str__ for Product-------------------\n",
      "Name: Breed Price: 10\n",
      "------------__str__ for Cart-------------------\n",
      "Name: Milk Quantity: 5 \n",
      "Name: Eggs Quantity: 5 \n",
      "Name: Patatoes Quantity: 10 \n",
      "\n",
      "------------__len__--------------------\n",
      "20\n",
      "19\n",
      "-----------iteration----------------\n",
      "Name: Milk Price: 10\n",
      "Name: Eggs Price: 5\n",
      "Name: Patatoes Price: 2\n"
     ]
    }
   ],
   "source": [
    "class Product:\n",
    "    def __init__(self,name,price,quantity = 0):\n",
    "        self.name = name\n",
    "        self.price = price\n",
    "        self.quantity = quantity\n",
    "    \n",
    "    def __str__(self):\n",
    "        return \"Name: {} Price: {}\".format(self.name,self.price)\n",
    "\n",
    "class Cart:\n",
    "    products = {\"Milk\":Product(\"Milk\",10),\n",
    "                \"Eggs\":Product(\"Eggs\",5),\n",
    "                \"Patatoes\":Product(\"Patatoes\",2)}\n",
    "\n",
    "    def add(self,productName):\n",
    "        if(productName in self.products):\n",
    "            self.products[productName].quantity += 1\n",
    "\n",
    "    def remove(self,productName):\n",
    "        if(productName in self.products and self.products[productName].quantity > 0):\n",
    "            self.products[productName].quantity -= 1\n",
    "    \n",
    "    def totalPrice(self):\n",
    "        sum = 0\n",
    "        for product in self.products:\n",
    "            sum += self.products[product].price*self.products[product].quantity\n",
    "        return sum\n",
    "\n",
    "    def __str__(self):\n",
    "        returnStr = \"\"\n",
    "        for product in self.products:\n",
    "            returnStr+= \"Name: {} Quantity: {} \\n\".format(self.products[product].name,self.products[product].quantity)\n",
    "        return returnStr\n",
    "    \n",
    "    def __len__(self):\n",
    "        ammOfProducts = 0\n",
    "        for product in self.products:\n",
    "            ammOfProducts += self.products[product].quantity\n",
    "        return ammOfProducts\n",
    "\n",
    "    def __iter__(self):\n",
    "        self._productsList = list(self.products.values())\n",
    "        self._index = 0\n",
    "        return self\n",
    "    \n",
    "    def __next__(self):\n",
    "        if self._index >= len(self._productsList):\n",
    "            raise StopIteration\n",
    "        value = self._productsList[self._index]\n",
    "        self._index +=1\n",
    "        return value\n",
    "        \n",
    "\n",
    "newCart = Cart()\n",
    "for i in range(5):\n",
    "    newCart.add(\"Milk\")\n",
    "    newCart.add(\"Eggs\")\n",
    "for i in range(10):\n",
    "    newCart.add(\"Patatoes\")\n",
    "\n",
    "#Testing __str__\n",
    "print(\"------------__str__ for Product-------------------\")\n",
    "print(str(Product(\"Breed\",10,1)))\n",
    "print(\"------------__str__ for Cart-------------------\")\n",
    "print(str(newCart))\n",
    "\n",
    "#Testing __len__\n",
    "print(\"------------__len__--------------------\")\n",
    "print(len(newCart))\n",
    "newCart.remove(\"Milk\")\n",
    "print(len(newCart))\n",
    "\n",
    "\n",
    "#Testing iteration\n",
    "print(\"-----------iteration----------------\")\n",
    "for product in newCart:\n",
    "    print(str(product))\n"
   ]
  }
 ],
 "metadata": {
  "kernelspec": {
   "display_name": "Python 3",
   "language": "python",
   "name": "python3"
  },
  "language_info": {
   "codemirror_mode": {
    "name": "ipython",
    "version": 3
   },
   "file_extension": ".py",
   "mimetype": "text/x-python",
   "name": "python",
   "nbconvert_exporter": "python",
   "pygments_lexer": "ipython3",
   "version": "3.10.6"
  },
  "vscode": {
   "interpreter": {
    "hash": "916dbcbb3f70747c44a77c7bcd40155683ae19c65e1c03b4aa3499c5328201f1"
   }
  }
 },
 "nbformat": 4,
 "nbformat_minor": 4
}
